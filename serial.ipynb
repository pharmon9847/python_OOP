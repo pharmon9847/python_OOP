{
 "cells": [
  {
   "cell_type": "code",
   "execution_count": 11,
   "id": "308b0a24",
   "metadata": {
    "ExecuteTime": {
     "end_time": "2023-11-07T15:17:03.036157Z",
     "start_time": "2023-11-07T15:17:03.031643Z"
    }
   },
   "outputs": [],
   "source": [
    "\"\"\"Python serial number generator.\"\"\"\n",
    "\n",
    "class SerialGenerator:\n",
    "    \"\"\"Machine to create unique incrementing serial numbers.\n",
    "    \n",
    "    >>> serial = SerialGenerator(start=100)\n",
    "\n",
    "    >>> serial.generate()\n",
    "    100\n",
    "\n",
    "    >>> serial.generate()\n",
    "    101\n",
    "\n",
    "    >>> serial.generate()\n",
    "    102\n",
    "\n",
    "    >>> serial.reset()\n",
    "\n",
    "    >>> serial.generate()\n",
    "    100\n",
    "    \"\"\"\n",
    "    \n",
    "    def __init__(self, start=0):\n",
    "        \"\"\"Create a new generator. It should start at the given start value.\"\"\"\n",
    "        \n",
    "        self.start = self.next = start\n",
    "        \n",
    "    def __repr__(self):\n",
    "        \"\"\"Show the representation\"\"\"\n",
    "        \n",
    "        return f'<SerialGenerator start={self.start} next={self.next}>'\n",
    "        \n",
    "    def generate(self):\n",
    "        \"\"\"Return next (serial) number\"\"\"\n",
    "        \n",
    "        self.next += 1\n",
    "        return self.next - 1\n",
    "    \n",
    "    def reset(self):\n",
    "        \"\"\"Reset number to the original start number\"\"\"\n",
    "        \n",
    "        self.next = self.start\n"
   ]
  },
  {
   "cell_type": "code",
   "execution_count": 12,
   "id": "13fef8d2",
   "metadata": {
    "ExecuteTime": {
     "end_time": "2023-11-07T15:17:04.160058Z",
     "start_time": "2023-11-07T15:17:04.157117Z"
    }
   },
   "outputs": [],
   "source": [
    "serial = SerialGenerator(start=100)"
   ]
  },
  {
   "cell_type": "code",
   "execution_count": 13,
   "id": "62557c78",
   "metadata": {
    "ExecuteTime": {
     "end_time": "2023-11-07T15:17:05.195787Z",
     "start_time": "2023-11-07T15:17:05.191408Z"
    }
   },
   "outputs": [
    {
     "data": {
      "text/plain": [
       "100"
      ]
     },
     "execution_count": 13,
     "metadata": {},
     "output_type": "execute_result"
    }
   ],
   "source": [
    "serial.generate()"
   ]
  },
  {
   "cell_type": "code",
   "execution_count": 14,
   "id": "8debe8b6",
   "metadata": {
    "ExecuteTime": {
     "end_time": "2023-11-07T15:17:06.100747Z",
     "start_time": "2023-11-07T15:17:06.096768Z"
    }
   },
   "outputs": [
    {
     "data": {
      "text/plain": [
       "101"
      ]
     },
     "execution_count": 14,
     "metadata": {},
     "output_type": "execute_result"
    }
   ],
   "source": [
    "serial.generate()"
   ]
  },
  {
   "cell_type": "code",
   "execution_count": 15,
   "id": "776dd86c",
   "metadata": {
    "ExecuteTime": {
     "end_time": "2023-11-07T15:17:07.069782Z",
     "start_time": "2023-11-07T15:17:07.066364Z"
    }
   },
   "outputs": [
    {
     "data": {
      "text/plain": [
       "102"
      ]
     },
     "execution_count": 15,
     "metadata": {},
     "output_type": "execute_result"
    }
   ],
   "source": [
    "serial.generate()"
   ]
  },
  {
   "cell_type": "code",
   "execution_count": 16,
   "id": "fe3091c6",
   "metadata": {
    "ExecuteTime": {
     "end_time": "2023-11-07T15:17:08.082282Z",
     "start_time": "2023-11-07T15:17:08.079592Z"
    }
   },
   "outputs": [],
   "source": [
    "serial.reset()"
   ]
  },
  {
   "cell_type": "code",
   "execution_count": 17,
   "id": "5a9530eb",
   "metadata": {
    "ExecuteTime": {
     "end_time": "2023-11-07T15:17:09.054630Z",
     "start_time": "2023-11-07T15:17:09.050572Z"
    }
   },
   "outputs": [
    {
     "data": {
      "text/plain": [
       "100"
      ]
     },
     "execution_count": 17,
     "metadata": {},
     "output_type": "execute_result"
    }
   ],
   "source": [
    "serial.generate()"
   ]
  },
  {
   "cell_type": "code",
   "execution_count": 19,
   "id": "e381543e",
   "metadata": {
    "ExecuteTime": {
     "end_time": "2023-11-07T15:18:25.482705Z",
     "start_time": "2023-11-07T15:18:25.479345Z"
    }
   },
   "outputs": [
    {
     "data": {
      "text/plain": [
       "<SerialGenerator start=100 next=101>"
      ]
     },
     "execution_count": 19,
     "metadata": {},
     "output_type": "execute_result"
    }
   ],
   "source": [
    "serial"
   ]
  },
  {
   "cell_type": "code",
   "execution_count": 20,
   "id": "352ac2b0",
   "metadata": {
    "ExecuteTime": {
     "end_time": "2023-11-07T15:18:48.538508Z",
     "start_time": "2023-11-07T15:18:48.534184Z"
    }
   },
   "outputs": [
    {
     "name": "stdout",
     "output_type": "stream",
     "text": [
      "Help on class SerialGenerator in module __main__:\n",
      "\n",
      "class SerialGenerator(builtins.object)\n",
      " |  SerialGenerator(start=0)\n",
      " |  \n",
      " |  Machine to create unique incrementing serial numbers.\n",
      " |  \n",
      " |  >>> serial = SerialGenerator(start=100)\n",
      " |  \n",
      " |  >>> serial.generate()\n",
      " |  100\n",
      " |  \n",
      " |  >>> serial.generate()\n",
      " |  101\n",
      " |  \n",
      " |  >>> serial.generate()\n",
      " |  102\n",
      " |  \n",
      " |  >>> serial.reset()\n",
      " |  \n",
      " |  >>> serial.generate()\n",
      " |  100\n",
      " |  \n",
      " |  Methods defined here:\n",
      " |  \n",
      " |  __init__(self, start=0)\n",
      " |      Create a new generator. It should start at the given start value.\n",
      " |  \n",
      " |  __repr__(self)\n",
      " |      Show the representation\n",
      " |  \n",
      " |  generate(self)\n",
      " |      Return next (serial) number\n",
      " |  \n",
      " |  reset(self)\n",
      " |      Reset number to the original start number\n",
      " |  \n",
      " |  ----------------------------------------------------------------------\n",
      " |  Data descriptors defined here:\n",
      " |  \n",
      " |  __dict__\n",
      " |      dictionary for instance variables (if defined)\n",
      " |  \n",
      " |  __weakref__\n",
      " |      list of weak references to the object (if defined)\n",
      "\n"
     ]
    }
   ],
   "source": [
    "help(SerialGenerator)"
   ]
  },
  {
   "cell_type": "code",
   "execution_count": null,
   "id": "b7a771be",
   "metadata": {},
   "outputs": [],
   "source": []
  }
 ],
 "metadata": {
  "kernelspec": {
   "display_name": "Python 3 (ipykernel)",
   "language": "python",
   "name": "python3"
  },
  "language_info": {
   "codemirror_mode": {
    "name": "ipython",
    "version": 3
   },
   "file_extension": ".py",
   "mimetype": "text/x-python",
   "name": "python",
   "nbconvert_exporter": "python",
   "pygments_lexer": "ipython3",
   "version": "3.11.5"
  },
  "varInspector": {
   "cols": {
    "lenName": 16,
    "lenType": 16,
    "lenVar": 40
   },
   "kernels_config": {
    "python": {
     "delete_cmd_postfix": "",
     "delete_cmd_prefix": "del ",
     "library": "var_list.py",
     "varRefreshCmd": "print(var_dic_list())"
    },
    "r": {
     "delete_cmd_postfix": ") ",
     "delete_cmd_prefix": "rm(",
     "library": "var_list.r",
     "varRefreshCmd": "cat(var_dic_list()) "
    }
   },
   "types_to_exclude": [
    "module",
    "function",
    "builtin_function_or_method",
    "instance",
    "_Feature"
   ],
   "window_display": false
  }
 },
 "nbformat": 4,
 "nbformat_minor": 5
}
