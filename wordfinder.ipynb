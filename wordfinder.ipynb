{
 "cells": [
  {
   "cell_type": "code",
   "execution_count": 12,
   "id": "64ce4c18",
   "metadata": {
    "ExecuteTime": {
     "end_time": "2023-11-07T15:53:30.693762Z",
     "start_time": "2023-11-07T15:53:30.685946Z"
    }
   },
   "outputs": [],
   "source": [
    "\"\"\"Word Finder: finds random words from a dictionary.\"\"\"\n",
    "\n",
    "import random\n",
    "\n",
    "\n",
    "class WordFinder:\n",
    "    \"\"\"Function for finding random words from a dictionary.\"\"\"\n",
    "    \n",
    "    def __init__(self, path):\n",
    "        \"\"\"Read the dictionary and return number of words read\"\"\"\n",
    "        \n",
    "        dict_file = open(path)\n",
    "        \n",
    "        self.words = self.parse(dict_file)\n",
    "        \n",
    "        print(f'{len(self.words)} words read')\n",
    "        \n",
    "    def parse(self, dict_file):\n",
    "        \"\"\"Parse the list of words (dict_file)\"\"\"\n",
    "        \n",
    "        # The strip() method removes any leading, and trailing whitespaces.\n",
    "        return [w.strip() for w in dict_file]\n",
    "    \n",
    "    def random(self):\n",
    "        \"\"\"Return a random word\"\"\"\n",
    "        \n",
    "        # The choice() method returns a randomly selected element from the specified sequence.\n",
    "        return random.choice(self.words)\n",
    "    \n",
    "class SpecialWordFinder(WordFinder):\n",
    "    \"\"\"Specialized WordFinder. Excludes blank lines and/or comments.\"\"\"\n",
    "    \n",
    "    def parse(self, dict_file):\n",
    "        \"\"\"Parse list of words (dict_file). Skip blanks and comments\"\"\"\n",
    "        \n",
    "        return [w.strip() for w in dict_file\n",
    "               if w.strip() and not w.startswith(\"#\")]\n"
   ]
  },
  {
   "cell_type": "code",
   "execution_count": 13,
   "id": "19503e46",
   "metadata": {
    "ExecuteTime": {
     "end_time": "2023-11-07T15:53:31.441484Z",
     "start_time": "2023-11-07T15:53:31.395542Z"
    }
   },
   "outputs": [
    {
     "name": "stdout",
     "output_type": "stream",
     "text": [
      "235886 words read\n"
     ]
    }
   ],
   "source": [
    "wf = WordFinder('words.txt')"
   ]
  },
  {
   "cell_type": "code",
   "execution_count": 14,
   "id": "167dceca",
   "metadata": {
    "ExecuteTime": {
     "end_time": "2023-11-07T15:53:32.458473Z",
     "start_time": "2023-11-07T15:53:32.454076Z"
    }
   },
   "outputs": [
    {
     "data": {
      "text/plain": [
       "'polypinnate'"
      ]
     },
     "execution_count": 14,
     "metadata": {},
     "output_type": "execute_result"
    }
   ],
   "source": [
    "wf.random()"
   ]
  },
  {
   "cell_type": "code",
   "execution_count": 15,
   "id": "120be1eb",
   "metadata": {
    "ExecuteTime": {
     "end_time": "2023-11-07T15:53:33.362918Z",
     "start_time": "2023-11-07T15:53:33.358999Z"
    }
   },
   "outputs": [
    {
     "data": {
      "text/plain": [
       "'unkemptness'"
      ]
     },
     "execution_count": 15,
     "metadata": {},
     "output_type": "execute_result"
    }
   ],
   "source": [
    "wf.random()"
   ]
  },
  {
   "cell_type": "code",
   "execution_count": 16,
   "id": "a589233e",
   "metadata": {
    "ExecuteTime": {
     "end_time": "2023-11-07T15:53:34.284918Z",
     "start_time": "2023-11-07T15:53:34.281762Z"
    }
   },
   "outputs": [
    {
     "data": {
      "text/plain": [
       "'mycetogenous'"
      ]
     },
     "execution_count": 16,
     "metadata": {},
     "output_type": "execute_result"
    }
   ],
   "source": [
    "wf.random()"
   ]
  },
  {
   "cell_type": "code",
   "execution_count": 18,
   "id": "e055291a",
   "metadata": {
    "ExecuteTime": {
     "end_time": "2023-11-07T15:54:08.415503Z",
     "start_time": "2023-11-07T15:54:08.412031Z"
    }
   },
   "outputs": [
    {
     "name": "stdout",
     "output_type": "stream",
     "text": [
      "25 words read\n"
     ]
    }
   ],
   "source": [
    "swf = SpecialWordFinder('complex.txt')"
   ]
  },
  {
   "cell_type": "code",
   "execution_count": 19,
   "id": "416dd7a6",
   "metadata": {
    "ExecuteTime": {
     "end_time": "2023-11-07T15:54:18.347506Z",
     "start_time": "2023-11-07T15:54:18.343698Z"
    }
   },
   "outputs": [
    {
     "data": {
      "text/plain": [
       "'onions'"
      ]
     },
     "execution_count": 19,
     "metadata": {},
     "output_type": "execute_result"
    }
   ],
   "source": [
    "swf.random()"
   ]
  },
  {
   "cell_type": "code",
   "execution_count": 20,
   "id": "3f52a3a0",
   "metadata": {
    "ExecuteTime": {
     "end_time": "2023-11-07T15:54:27.768157Z",
     "start_time": "2023-11-07T15:54:27.763775Z"
    }
   },
   "outputs": [
    {
     "data": {
      "text/plain": [
       "'pear'"
      ]
     },
     "execution_count": 20,
     "metadata": {},
     "output_type": "execute_result"
    }
   ],
   "source": [
    "swf.random()"
   ]
  },
  {
   "cell_type": "code",
   "execution_count": 21,
   "id": "6e87b8e3",
   "metadata": {
    "ExecuteTime": {
     "end_time": "2023-11-07T15:54:34.932651Z",
     "start_time": "2023-11-07T15:54:34.927539Z"
    }
   },
   "outputs": [
    {
     "data": {
      "text/plain": [
       "'banana'"
      ]
     },
     "execution_count": 21,
     "metadata": {},
     "output_type": "execute_result"
    }
   ],
   "source": [
    "swf.random()"
   ]
  },
  {
   "cell_type": "code",
   "execution_count": 22,
   "id": "88fda1e2",
   "metadata": {
    "ExecuteTime": {
     "end_time": "2023-11-07T15:54:44.807554Z",
     "start_time": "2023-11-07T15:54:44.803658Z"
    }
   },
   "outputs": [
    {
     "data": {
      "text/plain": [
       "'horse'"
      ]
     },
     "execution_count": 22,
     "metadata": {},
     "output_type": "execute_result"
    }
   ],
   "source": [
    "swf.random()"
   ]
  },
  {
   "cell_type": "code",
   "execution_count": null,
   "id": "cdd4467a",
   "metadata": {},
   "outputs": [],
   "source": []
  }
 ],
 "metadata": {
  "kernelspec": {
   "display_name": "Python 3 (ipykernel)",
   "language": "python",
   "name": "python3"
  },
  "language_info": {
   "codemirror_mode": {
    "name": "ipython",
    "version": 3
   },
   "file_extension": ".py",
   "mimetype": "text/x-python",
   "name": "python",
   "nbconvert_exporter": "python",
   "pygments_lexer": "ipython3",
   "version": "3.11.5"
  },
  "varInspector": {
   "cols": {
    "lenName": 16,
    "lenType": 16,
    "lenVar": 40
   },
   "kernels_config": {
    "python": {
     "delete_cmd_postfix": "",
     "delete_cmd_prefix": "del ",
     "library": "var_list.py",
     "varRefreshCmd": "print(var_dic_list())"
    },
    "r": {
     "delete_cmd_postfix": ") ",
     "delete_cmd_prefix": "rm(",
     "library": "var_list.r",
     "varRefreshCmd": "cat(var_dic_list()) "
    }
   },
   "types_to_exclude": [
    "module",
    "function",
    "builtin_function_or_method",
    "instance",
    "_Feature"
   ],
   "window_display": false
  }
 },
 "nbformat": 4,
 "nbformat_minor": 5
}
