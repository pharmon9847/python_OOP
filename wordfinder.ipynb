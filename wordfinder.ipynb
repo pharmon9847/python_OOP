{
 "cells": [
  {
   "cell_type": "code",
   "execution_count": 23,
   "id": "fd94d547",
   "metadata": {
    "ExecuteTime": {
     "end_time": "2023-11-07T15:58:39.215597Z",
     "start_time": "2023-11-07T15:58:39.210979Z"
    }
   },
   "outputs": [],
   "source": [
    "\"\"\"Word Finder: finds random words from a dictionary.\"\"\"\n",
    "\n",
    "import random\n",
    "\n",
    "\n",
    "class WordFinder:\n",
    "    \"\"\"Function for finding random words from a dictionary.\"\"\"\n",
    "    \n",
    "    def __init__(self, path):\n",
    "        \"\"\"Read the dictionary and return number of words read\"\"\"\n",
    "        \n",
    "        dict_file = open(path)\n",
    "        \n",
    "        self.words = self.parse(dict_file)\n",
    "        \n",
    "        print(f'{len(self.words)} words read')\n",
    "        \n",
    "    def parse(self, dict_file):\n",
    "        \"\"\"Parse the list of words (dict_file)\"\"\"\n",
    "        \n",
    "        # The strip() method removes any leading, and trailing whitespaces.\n",
    "        return [w.strip() for w in dict_file]\n",
    "    \n",
    "    def random(self):\n",
    "        \"\"\"Return a random word\"\"\"\n",
    "        \n",
    "        # The choice() method returns a randomly selected element from the specified sequence.\n",
    "        return random.choice(self.words)\n",
    "    \n",
    "class SpecialWordFinder(WordFinder):\n",
    "    \"\"\"Specialized WordFinder. Excludes blank lines and/or comments.\"\"\"\n",
    "    \n",
    "    def parse(self, dict_file):\n",
    "        \"\"\"Parse list of words (dict_file). Skip blanks and comments\"\"\"\n",
    "        \n",
    "        return [w.strip() for w in dict_file\n",
    "               if w.strip() and not w.startswith(\"#\")]\n"
   ]
  },
  {
   "cell_type": "code",
   "execution_count": 24,
   "id": "c3a23be1",
   "metadata": {
    "ExecuteTime": {
     "end_time": "2023-11-07T15:58:40.119124Z",
     "start_time": "2023-11-07T15:58:40.074496Z"
    }
   },
   "outputs": [
    {
     "name": "stdout",
     "output_type": "stream",
     "text": [
      "235886 words read\n"
     ]
    }
   ],
   "source": [
    "wf = WordFinder('words.txt')"
   ]
  },
  {
   "cell_type": "code",
   "execution_count": 25,
   "id": "8c4b8015",
   "metadata": {
    "ExecuteTime": {
     "end_time": "2023-11-07T15:58:41.178861Z",
     "start_time": "2023-11-07T15:58:41.175127Z"
    }
   },
   "outputs": [
    {
     "data": {
      "text/plain": [
       "'owlery'"
      ]
     },
     "execution_count": 25,
     "metadata": {},
     "output_type": "execute_result"
    }
   ],
   "source": [
    "wf.random()"
   ]
  },
  {
   "cell_type": "code",
   "execution_count": 26,
   "id": "566fde08",
   "metadata": {
    "ExecuteTime": {
     "end_time": "2023-11-07T15:58:42.110146Z",
     "start_time": "2023-11-07T15:58:42.105511Z"
    }
   },
   "outputs": [
    {
     "data": {
      "text/plain": [
       "'nominy'"
      ]
     },
     "execution_count": 26,
     "metadata": {},
     "output_type": "execute_result"
    }
   ],
   "source": [
    "wf.random()"
   ]
  },
  {
   "cell_type": "code",
   "execution_count": 27,
   "id": "41b6184c",
   "metadata": {
    "ExecuteTime": {
     "end_time": "2023-11-07T15:58:43.011750Z",
     "start_time": "2023-11-07T15:58:43.007859Z"
    }
   },
   "outputs": [
    {
     "data": {
      "text/plain": [
       "'unsculptural'"
      ]
     },
     "execution_count": 27,
     "metadata": {},
     "output_type": "execute_result"
    }
   ],
   "source": [
    "wf.random()"
   ]
  },
  {
   "cell_type": "code",
   "execution_count": 28,
   "id": "d72d3c9b",
   "metadata": {
    "ExecuteTime": {
     "end_time": "2023-11-07T15:58:43.829932Z",
     "start_time": "2023-11-07T15:58:43.826559Z"
    }
   },
   "outputs": [
    {
     "name": "stdout",
     "output_type": "stream",
     "text": [
      "25 words read\n"
     ]
    }
   ],
   "source": [
    "swf = SpecialWordFinder('complex.txt')"
   ]
  },
  {
   "cell_type": "code",
   "execution_count": 29,
   "id": "e627e0b5",
   "metadata": {
    "ExecuteTime": {
     "end_time": "2023-11-07T15:58:44.755071Z",
     "start_time": "2023-11-07T15:58:44.751975Z"
    }
   },
   "outputs": [
    {
     "data": {
      "text/plain": [
       "'Briar'"
      ]
     },
     "execution_count": 29,
     "metadata": {},
     "output_type": "execute_result"
    }
   ],
   "source": [
    "swf.random()"
   ]
  },
  {
   "cell_type": "code",
   "execution_count": 30,
   "id": "05e8606c",
   "metadata": {
    "ExecuteTime": {
     "end_time": "2023-11-07T15:58:45.704171Z",
     "start_time": "2023-11-07T15:58:45.700411Z"
    }
   },
   "outputs": [
    {
     "data": {
      "text/plain": [
       "'Wyatt'"
      ]
     },
     "execution_count": 30,
     "metadata": {},
     "output_type": "execute_result"
    }
   ],
   "source": [
    "swf.random()"
   ]
  },
  {
   "cell_type": "code",
   "execution_count": 31,
   "id": "c184342e",
   "metadata": {
    "ExecuteTime": {
     "end_time": "2023-11-07T15:58:48.277941Z",
     "start_time": "2023-11-07T15:58:48.273904Z"
    }
   },
   "outputs": [
    {
     "data": {
      "text/plain": [
       "'apple'"
      ]
     },
     "execution_count": 31,
     "metadata": {},
     "output_type": "execute_result"
    }
   ],
   "source": [
    "swf.random()"
   ]
  },
  {
   "cell_type": "code",
   "execution_count": 32,
   "id": "08f68c48",
   "metadata": {
    "ExecuteTime": {
     "end_time": "2023-11-07T15:58:49.140297Z",
     "start_time": "2023-11-07T15:58:49.136329Z"
    }
   },
   "outputs": [
    {
     "data": {
      "text/plain": [
       "'Pepper'"
      ]
     },
     "execution_count": 32,
     "metadata": {},
     "output_type": "execute_result"
    }
   ],
   "source": [
    "swf.random()"
   ]
  },
  {
   "cell_type": "code",
   "execution_count": null,
   "id": "f7953626",
   "metadata": {},
   "outputs": [],
   "source": []
  }
 ],
 "metadata": {
  "kernelspec": {
   "display_name": "Python 3 (ipykernel)",
   "language": "python",
   "name": "python3"
  },
  "language_info": {
   "codemirror_mode": {
    "name": "ipython",
    "version": 3
   },
   "file_extension": ".py",
   "mimetype": "text/x-python",
   "name": "python",
   "nbconvert_exporter": "python",
   "pygments_lexer": "ipython3",
   "version": "3.11.5"
  },
  "varInspector": {
   "cols": {
    "lenName": 16,
    "lenType": 16,
    "lenVar": 40
   },
   "kernels_config": {
    "python": {
     "delete_cmd_postfix": "",
     "delete_cmd_prefix": "del ",
     "library": "var_list.py",
     "varRefreshCmd": "print(var_dic_list())"
    },
    "r": {
     "delete_cmd_postfix": ") ",
     "delete_cmd_prefix": "rm(",
     "library": "var_list.r",
     "varRefreshCmd": "cat(var_dic_list()) "
    }
   },
   "types_to_exclude": [
    "module",
    "function",
    "builtin_function_or_method",
    "instance",
    "_Feature"
   ],
   "window_display": false
  }
 },
 "nbformat": 4,
 "nbformat_minor": 5
}
